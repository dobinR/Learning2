{
 "cells": [
  {
   "cell_type": "code",
   "execution_count": null,
   "metadata": {},
   "outputs": [],
   "source": [
    "import pandas as pd\n",
    "from sklearn.tree import plot_tree\n",
    "import matplotlib.pyplot as plt\n",
    "import numpy as np\n",
    "filename = 'C://train_r//data//data1_1//data1-1.csv'\n",
    "\n",
    "data = pd.read_csv(filename)\n",
    "data"
   ]
  },
  {
   "cell_type": "code",
   "execution_count": null,
   "metadata": {},
   "outputs": [],
   "source": [
    "data_질병당_증상 = data.groupby(by=['질병'], as_index=False).count()\n",
    "data_질병당_증상2 = data.groupby(by=['질병'], as_index=False).count()\n",
    "data_질병당_증상"
   ]
  },
  {
   "cell_type": "code",
   "execution_count": null,
   "metadata": {},
   "outputs": [],
   "source": [
    "data_질병당_증상.loc[:]"
   ]
  },
  {
   "cell_type": "code",
   "execution_count": null,
   "metadata": {},
   "outputs": [],
   "source": [
    "for i in range(1, 57):\n",
    "    for j in range(8):\n",
    "        if data_질병당_증상.iloc[j,i] == 0:\n",
    "            pass\n",
    "        else:\n",
    "            data_질병당_증상2.iloc[j,i] = round((data_질병당_증상.iloc[j,i] / data_질병당_증상.iloc[:,i].sum()) * 100, 2)"
   ]
  },
  {
   "cell_type": "code",
   "execution_count": null,
   "metadata": {},
   "outputs": [],
   "source": [
    "data_질병당_증상_세로=data_질병당_증상2.transpose()\n",
    "data_질병당_증상_세로"
   ]
  },
  {
   "cell_type": "code",
   "execution_count": null,
   "metadata": {},
   "outputs": [],
   "source": [
    "data_질병당_증상_세로[\"총 데이터 수\"] = data.count()\n",
    "data_질병당_증상_세로[\"데이터당 증상 비율\"] = data.count()"
   ]
  },
  {
   "cell_type": "code",
   "execution_count": null,
   "metadata": {},
   "outputs": [],
   "source": [
    "data_3 = data_질병당_증상_세로\n",
    "\n",
    "for i in range(1, 57):\n",
    "    if data_질병당_증상_세로.iloc[i,8] == 0:\n",
    "        pass\n",
    "    else:\n",
    "        data_질병당_증상_세로.iloc[i,9] = round(data_3.iloc[i,8]/data_3.iloc[0,8] * 100, 2)\n",
    "data_질병당_증상_세로"
   ]
  },
  {
   "cell_type": "code",
   "execution_count": null,
   "metadata": {},
   "outputs": [],
   "source": [
    "import matplotlib.pyplot as plt\n",
    "import pandas as pd\n",
    "import seaborn as sns\n",
    "import numpy as np\n",
    "\n",
    "# Pie Chart\n",
    "labels = data['질병'].unique()\n",
    "sizes = data['질병'].value_counts()\n",
    "plt.pie(sizes, labels=labels, autopct='%1.1f%%')\n",
    "plt.axis('equal')\n",
    "plt.title('Pie Chart')\n",
    "plt.show()\n",
    "\n",
    "# Heatmap\n",
    "correlation_matrix = data.corr()\n",
    "sns.heatmap(correlation_matrix, annot=True)\n",
    "plt.title('Heatmap')\n",
    "plt.show()\n",
    "\n",
    "# Pair Plot\n",
    "sns.pairplot(data)\n",
    "plt.title('Pair Plot')\n",
    "plt.show()"
   ]
  },
  {
   "cell_type": "code",
   "execution_count": null,
   "metadata": {},
   "outputs": [],
   "source": []
  },
  {
   "cell_type": "code",
   "execution_count": null,
   "metadata": {},
   "outputs": [],
   "source": []
  },
  {
   "cell_type": "code",
   "execution_count": null,
   "metadata": {},
   "outputs": [],
   "source": []
  }
 ],
 "metadata": {
  "kernelspec": {
   "display_name": "python41",
   "language": "python",
   "name": "python3"
  },
  "language_info": {
   "name": "python",
   "version": "3.9.15"
  },
  "orig_nbformat": 4,
  "vscode": {
   "interpreter": {
    "hash": "6d54f161d697565d94da6513bca6ed3ac8ed2861b4483882fde9b444cfb419bf"
   }
  }
 },
 "nbformat": 4,
 "nbformat_minor": 2
}
